{
 "cells": [
  {
   "cell_type": "markdown",
   "metadata": {},
   "source": [
    "# SecuriBot for facial recognition\n",
    "Brandon Castaing, Eduarda Espindola, Arthur Lima - 12/1/2019"
   ]
  },
  {
   "cell_type": "markdown",
   "metadata": {},
   "source": [
    "## Preliminary Setup"
   ]
  },
  {
   "cell_type": "code",
   "execution_count": 3,
   "metadata": {},
   "outputs": [
    {
     "name": "stderr",
     "output_type": "stream",
     "text": [
      "WARNING: You are using pip version 19.2.3, however version 19.3.1 is available.\n",
      "You should consider upgrading via the 'python -m pip install --upgrade pip' command.\n"
     ]
    }
   ],
   "source": [
    "!pip3 install -q tensorflow matplotlib numpy pandas Pillow --user"
   ]
  },
  {
   "cell_type": "code",
   "execution_count": 17,
   "metadata": {},
   "outputs": [
    {
     "name": "stdout",
     "output_type": "stream",
     "text": [
      "2.1.0-dev20191026\n",
      "1.17.3\n",
      "0.24.1\n"
     ]
    }
   ],
   "source": [
    "# Import Libraries\n",
    "from __future__ import absolute_import, division, print_function, unicode_literals\n",
    "import PIL\n",
    "import os\n",
    "import random\n",
    "import numpy as np\n",
    "import pandas as pd\n",
    "import tensorflow as tf\n",
    "from tensorflow import keras\n",
    "\n",
    "print(tf.__version__)\n",
    "print(np.__version__)\n",
    "print(pd.__version__)"
   ]
  },
  {
   "cell_type": "markdown",
   "metadata": {},
   "source": [
    "## Data Loading, Inspection, and EDA"
   ]
  },
  {
   "cell_type": "code",
   "execution_count": 18,
   "metadata": {},
   "outputs": [
    {
     "name": "stdout",
     "output_type": "stream",
     "text": [
      "Photo Counts\n",
      "Brandon: 610\n",
      "Arthur: 671\n",
      "Duda: 987 + 1000\n",
      "Format: JPEG, Mode: RGB, Size: (640, 480)\n",
      "Format: JPEG, Mode: RGB, Size: (258, 258)\n",
      "Format: JPEG, Mode: RGB, Size: (123, 123)\n",
      "Format: JPEG, Mode: RGB, Size: (640, 480)\n"
     ]
    }
   ],
   "source": [
    "# Load raw data from data directory\n",
    "brandon_img_files = os.listdir('data/Brandon')\n",
    "arthur_img_files = os.listdir('data/Arthur')\n",
    "duda_img_files = os.listdir('data/Duda_Faces')\n",
    "duda2_img_files = os.listdir('data/Duda_Scene_Faces')\n",
    "\n",
    "brandon_imgs = [PIL.Image.open(f'data/Brandon/{img}') for img in brandon_img_files]\n",
    "arthur_imgs = [PIL.Image.open(f'data/Arthur/{img}') for img in arthur_img_files]\n",
    "duda_imgs = [PIL.Image.open(f'data/Duda_Faces/{img}') for img in duda_img_files]\n",
    "duda2_imgs = [PIL.Image.open(f'data/Duda_Scene_Faces/{img}') for img in duda2_img_files]\n",
    "print(f\"Photo Counts\\nBrandon: {len(brandon_imgs)}\\nArthur: {len(arthur_imgs)}\\nDuda: {len(duda_imgs)} + {len(duda2_imgs)}\")\n",
    "\n",
    "# Basic image details\n",
    "def image_details(image):\n",
    "    print(f\"Format: {image.format}, Mode: {image.mode}, Size: {image.size}\")\n",
    "    image.show()\n",
    "\n",
    "random_i = random.randint(0, 500)\n",
    "image_details(brandon_imgs[random_i])\n",
    "image_details(arthur_imgs[random_i])\n",
    "image_details(duda_imgs[random_i])\n",
    "image_details(duda2_imgs[random_i])"
   ]
  },
  {
   "cell_type": "code",
   "execution_count": null,
   "metadata": {},
   "outputs": [],
   "source": [
    "#TODO: Continue preprocessing... Helpful website: https://machinelearningmastery.com/how-to-load-and-manipulate-images-for-deep-learning-in-python-with-pil-pillow/"
   ]
  },
  {
   "cell_type": "markdown",
   "metadata": {},
   "source": [
    "## Basic Model Pipeline"
   ]
  },
  {
   "cell_type": "code",
   "execution_count": null,
   "metadata": {},
   "outputs": [],
   "source": []
  },
  {
   "cell_type": "markdown",
   "metadata": {},
   "source": [
    "## Model Optimization"
   ]
  },
  {
   "cell_type": "code",
   "execution_count": null,
   "metadata": {},
   "outputs": [],
   "source": []
  },
  {
   "cell_type": "markdown",
   "metadata": {},
   "source": [
    "## Final Metrics Report"
   ]
  },
  {
   "cell_type": "code",
   "execution_count": null,
   "metadata": {},
   "outputs": [],
   "source": []
  },
  {
   "cell_type": "markdown",
   "metadata": {},
   "source": [
    "## Export Model to the Cloud"
   ]
  },
  {
   "cell_type": "code",
   "execution_count": null,
   "metadata": {},
   "outputs": [],
   "source": []
  }
 ],
 "metadata": {
  "kernelspec": {
   "display_name": "Python 3",
   "language": "python",
   "name": "python3"
  },
  "language_info": {
   "codemirror_mode": {
    "name": "ipython",
    "version": 3
   },
   "file_extension": ".py",
   "mimetype": "text/x-python",
   "name": "python",
   "nbconvert_exporter": "python",
   "pygments_lexer": "ipython3",
   "version": "3.6.5"
  }
 },
 "nbformat": 4,
 "nbformat_minor": 2
}
